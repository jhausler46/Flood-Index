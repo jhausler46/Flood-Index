{
 "cells": [
  {
   "cell_type": "markdown",
   "metadata": {},
   "source": [
    "This program creates"
   ]
  },
  {
   "cell_type": "code",
   "execution_count": 1,
   "metadata": {},
   "outputs": [
    {
     "name": "stdout",
     "output_type": "stream",
     "text": [
      "Pretty printing has been turned OFF\n"
     ]
    }
   ],
   "source": [
    "# Import system packages\n",
    "import ipywidgets as widgets\n",
    "import pandas as pd\n",
    "import math\n",
    "from matplotlib import pyplot as plt\n",
    "import arcpy\n",
    "%pprint\n",
    "# Define dataframe\n",
    "df = pd.read_excel(r\"C:\\Users\\Abigail\\Documents\\Geocomputation\\FinalProject\\Flood Data.xlsx\")"
   ]
  },
  {
   "cell_type": "code",
   "execution_count": 2,
   "metadata": {},
   "outputs": [
    {
     "name": "stdout",
     "output_type": "stream",
     "text": [
      "Compare a flood to your dataset\n",
      "Location: Houston\n",
      "Max Water Level: 60\n",
      "Flood stage: 50\n"
     ]
    }
   ],
   "source": [
    "# Get user flood inputs\n",
    "print(\"Compare a flood to your dataset\")\n",
    "location = input(\"Location: \")\n",
    "maxwateri = input(\"Max Water Level: \")\n",
    "fstagei = input(\"Flood stage: \")"
   ]
  },
  {
   "cell_type": "code",
   "execution_count": 3,
   "metadata": {},
   "outputs": [
    {
     "name": "stdout",
     "output_type": "stream",
     "text": [
      "['Magnolia', 'Denham Springs', 'Port Vincent', 'Olive Branch Ln.', 'Comite Joor Rd.', 'Amite', 'Robert', 'Liverpool', 'Holden', 'Baptist', 'Houston']\n",
      "[10.36, 17.2, 9.45, 7.96, 14.22, 5.28, 12.33, 4.76, 7.16, 6.2, 10.0]\n",
      "[10.36, 17.2, 9.45, 7.96, 14.22, 5.28, 12.33, 4.76, 7.16, 6.2]\n"
     ]
    }
   ],
   "source": [
    "# Calculate heights above flood stage for user inputs and for the dataframe\n",
    "# Get values of user inputs and make lists for columns in dataframe\n",
    "maxwater = float(maxwateri)\n",
    "fstage = float(fstagei)\n",
    "hafs = maxwater - fstage\n",
    "locationcol = df[\"Location\"]\n",
    "locationlist = locationcol.tolist()\n",
    "locationlist.append(location)\n",
    "maxwatercol = df[\"Max Water Level (ft)\"]\n",
    "fstagecol = df[\"Flood Stage (ft)\"]\n",
    "maxwaterlist = maxwatercol.tolist()\n",
    "fstagelist = fstagecol.tolist()\n",
    "# Calculate list of HAFS values for bar chart heights\n",
    "hafslist = []\n",
    "ziphafsl = zip(maxwaterlist, fstagelist)\n",
    "for maxwaterlist_i, fstagelist_i in ziphafsl:\n",
    "    hafslist.append(maxwaterlist_i-fstagelist_i)\n",
    "hafslist = [round(h, 2) for h in hafslist]\n",
    "hafslist.append(hafs)\n",
    "# Calculate separate list of HAFS values only for dataframe\n",
    "hafscol = []\n",
    "ziphafsc = zip(maxwaterlist, fstagelist)\n",
    "for maxwaterlist_i, fstagelist_i in ziphafsc:\n",
    "    hafscol.append(maxwaterlist_i-fstagelist_i)\n",
    "hafscol = [round(h, 2) for h in hafscol]"
   ]
  },
  {
   "cell_type": "code",
   "execution_count": 12,
   "metadata": {},
   "outputs": [
    {
     "data": {
      "image/png": "[encoded data removed]",
      "text/plain": [
       "<Figure size 432x288 with 1 Axes>"
      ]
     },
     "metadata": {
      "needs_background": "light"
     },
     "output_type": "display_data"
    }
   ],
   "source": [
    "# Graph to compare height above flood stage from inputs to heights above flood stage from dataframe\n",
    "bargraph = plt.barh(locationlist, hafslist)"
   ]
  },
  {
   "cell_type": "code",
   "execution_count": 6,
   "metadata": {},
   "outputs": [
    {
     "data": {
      "text/html": [
       "<div>\n",
       "<style scoped>\n",
       "    .dataframe tbody tr th:only-of-type {\n",
       "        vertical-align: middle;\n",
       "    }\n",
       "\n",
       "    .dataframe tbody tr th {\n",
       "        vertical-align: top;\n",
       "    }\n",
       "\n",
       "    .dataframe thead th {\n",
       "        text-align: right;\n",
       "    }\n",
       "</style>\n",
       "<table border=\"1\" class=\"dataframe\">\n",
       "  <thead>\n",
       "    <tr style=\"text-align: right;\">\n",
       "      <th></th>\n",
       "      <th>River</th>\n",
       "      <th>Location</th>\n",
       "      <th>Max Water Level (ft)</th>\n",
       "      <th>Flood Stage (ft)</th>\n",
       "      <th>Height Above Flood Stage (ft)</th>\n",
       "      <th>HAFS Index</th>\n",
       "    </tr>\n",
       "  </thead>\n",
       "  <tbody>\n",
       "    <tr>\n",
       "      <th>0</th>\n",
       "      <td>Amite</td>\n",
       "      <td>Magnolia</td>\n",
       "      <td>58.36</td>\n",
       "      <td>48</td>\n",
       "      <td>10.36</td>\n",
       "      <td>108.52</td>\n",
       "    </tr>\n",
       "    <tr>\n",
       "      <th>1</th>\n",
       "      <td>Amite</td>\n",
       "      <td>Denham Springs</td>\n",
       "      <td>46.20</td>\n",
       "      <td>29</td>\n",
       "      <td>17.20</td>\n",
       "      <td>175.69</td>\n",
       "    </tr>\n",
       "    <tr>\n",
       "      <th>2</th>\n",
       "      <td>Amite</td>\n",
       "      <td>Port Vincent</td>\n",
       "      <td>17.45</td>\n",
       "      <td>8</td>\n",
       "      <td>9.45</td>\n",
       "      <td>99.59</td>\n",
       "    </tr>\n",
       "    <tr>\n",
       "      <th>3</th>\n",
       "      <td>Comite</td>\n",
       "      <td>Olive Branch Ln.</td>\n",
       "      <td>26.96</td>\n",
       "      <td>19</td>\n",
       "      <td>7.96</td>\n",
       "      <td>84.96</td>\n",
       "    </tr>\n",
       "    <tr>\n",
       "      <th>4</th>\n",
       "      <td>Comite</td>\n",
       "      <td>Comite Joor Rd.</td>\n",
       "      <td>34.22</td>\n",
       "      <td>20</td>\n",
       "      <td>14.22</td>\n",
       "      <td>146.43</td>\n",
       "    </tr>\n",
       "    <tr>\n",
       "      <th>5</th>\n",
       "      <td>Tangipahoa</td>\n",
       "      <td>Amite</td>\n",
       "      <td>26.28</td>\n",
       "      <td>21</td>\n",
       "      <td>5.28</td>\n",
       "      <td>58.64</td>\n",
       "    </tr>\n",
       "    <tr>\n",
       "      <th>6</th>\n",
       "      <td>Tangipahoa</td>\n",
       "      <td>Robert</td>\n",
       "      <td>27.33</td>\n",
       "      <td>15</td>\n",
       "      <td>12.33</td>\n",
       "      <td>127.87</td>\n",
       "    </tr>\n",
       "    <tr>\n",
       "      <th>7</th>\n",
       "      <td>Tickfaw</td>\n",
       "      <td>Liverpool</td>\n",
       "      <td>13.76</td>\n",
       "      <td>9</td>\n",
       "      <td>4.76</td>\n",
       "      <td>53.53</td>\n",
       "    </tr>\n",
       "    <tr>\n",
       "      <th>8</th>\n",
       "      <td>Tickfaw</td>\n",
       "      <td>Holden</td>\n",
       "      <td>22.16</td>\n",
       "      <td>15</td>\n",
       "      <td>7.16</td>\n",
       "      <td>77.10</td>\n",
       "    </tr>\n",
       "    <tr>\n",
       "      <th>9</th>\n",
       "      <td>Natalbany</td>\n",
       "      <td>Baptist</td>\n",
       "      <td>22.20</td>\n",
       "      <td>16</td>\n",
       "      <td>6.20</td>\n",
       "      <td>67.67</td>\n",
       "    </tr>\n",
       "  </tbody>\n",
       "</table>\n",
       "</div>"
      ],
      "text/plain": [
       "        River          Location  Max Water Level (ft)  Flood Stage (ft)  \\\n",
       "0       Amite          Magnolia                 58.36                48   \n",
       "1       Amite    Denham Springs                 46.20                29   \n",
       "2       Amite      Port Vincent                 17.45                 8   \n",
       "3      Comite  Olive Branch Ln.                 26.96                19   \n",
       "4      Comite   Comite Joor Rd.                 34.22                20   \n",
       "5  Tangipahoa             Amite                 26.28                21   \n",
       "6  Tangipahoa            Robert                 27.33                15   \n",
       "7     Tickfaw         Liverpool                 13.76                 9   \n",
       "8     Tickfaw            Holden                 22.16                15   \n",
       "9   Natalbany           Baptist                 22.20                16   \n",
       "\n",
       "   Height Above Flood Stage (ft)  HAFS Index  \n",
       "0                          10.36      108.52  \n",
       "1                          17.20      175.69  \n",
       "2                           9.45       99.59  \n",
       "3                           7.96       84.96  \n",
       "4                          14.22      146.43  \n",
       "5                           5.28       58.64  \n",
       "6                          12.33      127.87  \n",
       "7                           4.76       53.53  \n",
       "8                           7.16       77.10  \n",
       "9                           6.20       67.67  "
      ]
     },
     "metadata": {},
     "output_type": "display_data"
    }
   ],
   "source": [
    "# Calculate index values from new HAFS column of dataframe\n",
    "df[\"Height Above Flood Stage (ft)\"] = hafscol\n",
    "hafscol = df[\"Height Above Flood Stage (ft)\"]\n",
    "meanHAFS = hafscol.mean()\n",
    "countHAFS = hafscol.count()\n",
    "HAFSlist = hafscol.tolist()\n",
    "sqtotal = 0\n",
    "for h in HAFSlist:\n",
    "    sq = (h - meanHAFS)**2\n",
    "    sqtotal += sq\n",
    "stdevHAFS = math.sqrt((sqtotal)/(countHAFS - 1))\n",
    "HAFSindex = []\n",
    "for h in HAFSlist:\n",
    "    zscoreHAFS = (h - meanHAFS)/stdevHAFS \n",
    "    indexHAFS = round((50+(20*zscoreHAFS))*2, 2)\n",
    "    HAFSindex.append(indexHAFS)\n",
    "df[\"HAFS Index\"] = HAFSindex\n",
    "display(df)"
   ]
  },
  {
   "cell_type": "code",
   "execution_count": 16,
   "metadata": {},
   "outputs": [
    {
     "name": "stdout",
     "output_type": "stream",
     "text": [
      "Compared to this flood event, your Houston flood would have an HAFS index of 104.99\n"
     ]
    }
   ],
   "source": [
    "# Calculate comparative index value from HAFS value of user inputs\n",
    "def indexHAFS(HAFS):\n",
    "    zscore = (HAFS - meanHAFS)/stdevHAFS\n",
    "    index = (50+(20*zscore))*2\n",
    "    return index\n",
    "print(\"Compared to this flood event, your\", location, \"flood would have an HAFS index of\", round(indexHAFS(hafs), 2))"
   ]
  },
  {
   "cell_type": "code",
   "execution_count": null,
   "metadata": {},
   "outputs": [],
   "source": [
    "# Use geoprocessing to create feature class of rivers selected by state\n",
    "arcpy.env.workspace = r\"C:\\Users\\Abigail\\Documents\\Geocomputation\\FinalProject\"\n",
    "USrivers = \"USA_Rivers_and_Streams.shp\"\n",
    "where_clause = \"State = 'LA'\"\n",
    "selectedrivers = arcpy.SelectLayerByAttribute_management(USrivers, \"NEW_SELECTION\",\n",
    "                                                   where_clause)\n",
    "LArivers = arcpy.CopyFeatures_management(selectedrivers, \"LArivers\")\n",
    "# Get the city boundary polygons shapefile\n",
    "LAcities = \"tl_2019_22_place.shp\""
   ]
  },
  {
   "cell_type": "code",
   "execution_count": null,
   "metadata": {},
   "outputs": [],
   "source": [
    "# Script a map of index values"
   ]
  }
 ],
 "metadata": {
  "kernelspec": {
   "display_name": "Python 3",
   "language": "python",
   "name": "python3"
  },
  "language_info": {
   "codemirror_mode": {
    "name": "ipython",
    "version": 3
   },
   "file_extension": ".py",
   "mimetype": "text/x-python",
   "name": "python",
   "nbconvert_exporter": "python",
   "pygments_lexer": "ipython3",
   "version": "3.6.6"
  }
 },
 "nbformat": 4,
 "nbformat_minor": 4
}
