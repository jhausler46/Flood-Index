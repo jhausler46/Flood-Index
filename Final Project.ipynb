{
 "cells": [
  {
   "cell_type": "code",
   "execution_count": null,
   "metadata": {},
   "outputs": [],
   "source": [
    "# Import system packages\n",
    "import ipywidgets as widgets\n",
    "import pandas as pd\n",
    "import math\n",
    "from matplotlib import pyplot as plt\n",
    "import arcpy\n",
    "%pprint\n",
    "# Define dataframe\n",
    "df = pd.read_excel(r\"C:\\XXXXX\")\n",
    "# Define sliders and their handler function\n",
    "sliderfs = widgets.FloatSlider(value=0,min=0,max=70,step=0.1)\n",
    "slidermw = widgets.FloatSlider(value=0,min=0,max=70,step=0.01)\n",
    "def handler(change):\n",
    "    slider.value = change['new']"
   ]
  },
  {
   "cell_type": "code",
   "execution_count": null,
   "metadata": {},
   "outputs": [],
   "source": [
    "# Get user flood inputs\n",
    "print(\"Compare a flood to your dataset\")\n",
    "location = input(\"Location: \")\n",
    "print(\"Flood stage (ft): \")\n",
    "display(sliderfs)\n",
    "print(\"Max water level (ft): \")\n",
    "display(slidermw)"
   ]
  },
  {
   "cell_type": "code",
   "execution_count": null,
   "metadata": {},
   "outputs": [],
   "source": [
    "# Calculate heights above flood stage for user inputs and for the dataframe\n",
    "# Get values of user inputs and make lists for columns in dataframe\n",
    "sliderfs.observe(handler, 'value')\n",
    "slidermw.observe(handler, 'value')\n",
    "fstage = float(sliderfs.value)\n",
    "maxwater = float(slidermw.value)\n",
    "hafs = maxwater - fstage\n",
    "locationcol = df[\"Location\"]\n",
    "locationlist = locationcol.tolist()\n",
    "locationlist.append(location)\n",
    "maxwatercol = df[\"Max Water Level (ft)\"]\n",
    "fstagecol = df[\"Flood Stage (ft)\"]\n",
    "maxwaterlist = maxwatercol.tolist()\n",
    "fstagelist = fstagecol.tolist()\n",
    "# Calculate list of HAFS values for bar chart heights\n",
    "hafslist = []\n",
    "ziphafsl = zip(maxwaterlist, fstagelist)\n",
    "for maxwaterlist_i, fstagelist_i in ziphafsl:\n",
    "    hafslist.append(maxwaterlist_i-fstagelist_i)\n",
    "hafslist = [round(h, 2) for h in hafslist]\n",
    "hafslist.append(hafs)\n",
    "# Calculate separate list of HAFS values only for dataframe\n",
    "hafscol = []\n",
    "ziphafsc = zip(maxwaterlist, fstagelist)\n",
    "for maxwaterlist_i, fstagelist_i in ziphafsc:\n",
    "    hafscol.append(maxwaterlist_i-fstagelist_i)\n",
    "hafscol = [round(h, 2) for h in hafscol]"
   ]
  },
  {
   "cell_type": "code",
   "execution_count": null,
   "metadata": {},
   "outputs": [],
   "source": [
    "# Ask user if they want to compare HAFS\n",
    "choice = input(\"Graphically compare \" + location + \"'s Height Above Flood Stage with the dataframe? Y/N \")\n",
    "if choice == \"Y\":\n",
    "    # Graph to compare height above flood stage from inputs to heights above flood stage from dataframe\n",
    "    print(location + \"'s Height Above Flood Stage compared with the dataframe:\")\n",
    "    bargraph = plt.barh(locationlist, hafslist)\n",
    "else:\n",
    "    print(\"Next, discover the dataframe's HAFS Index values.\")"
   ]
  },
  {
   "cell_type": "code",
   "execution_count": null,
   "metadata": {},
   "outputs": [],
   "source": [
    "# Calculate index values from new HAFS column of dataframe\n",
    "df[\"Height Above Flood Stage (ft)\"] = hafscol\n",
    "hafscol = df[\"Height Above Flood Stage (ft)\"]\n",
    "meanHAFS = hafscol.mean()\n",
    "countHAFS = hafscol.count()\n",
    "HAFSlist = hafscol.tolist()\n",
    "sqtotal = 0\n",
    "for h in HAFSlist:\n",
    "    sq = (h - meanHAFS)**2\n",
    "    sqtotal += sq\n",
    "stdevHAFS = math.sqrt((sqtotal)/(countHAFS - 1))\n",
    "HAFSindex = []\n",
    "for h in HAFSlist:\n",
    "    zscoreHAFS = (h - meanHAFS)/stdevHAFS \n",
    "    indexHAFS = round((50+(20*zscoreHAFS))*2, 2)\n",
    "    HAFSindex.append(indexHAFS)\n",
    "df[\"HAFS Index\"] = HAFSindex\n",
    "display(df)"
   ]
  },
  {
   "cell_type": "code",
   "execution_count": null,
   "metadata": {},
   "outputs": [],
   "source": [
    "# Calculate comparative index value from HAFS value of user inputs\n",
    "def indexHAFS(HAFS):\n",
    "    zscore = (HAFS - meanHAFS)/stdevHAFS\n",
    "    index = (50+(20*zscore))*2\n",
    "    return index\n",
    "print(\"Compared to this flood event, your\", location, \"flood would have an HAFS Index of\", round(indexHAFS(hafs), 2))"
   ]
  },
  {
   "cell_type": "code",
   "execution_count": null,
   "metadata": {},
   "outputs": [],
   "source": [
    "# Make lists from LAT and LONG columns and empty lists for converted values\n",
    "LATlist = df[\"LAT\"].tolist()\n",
    "LONGlist = df[\"LONG\"].tolist()\n",
    "newLATlist = []\n",
    "newLONGlist = []\n",
    "# Check if N/S latitudes and E/W longitudes need to be converted to +/- decimal degree values\n",
    "try:    \n",
    "    for l in LATlist:\n",
    "        if \"N\" in l:\n",
    "            newl = float(l.replace(' N', ''))\n",
    "            newLATlist.append(newl)\n",
    "        elif \"S\" in l:\n",
    "            newl = -(float(l.replace(' S', '')))\n",
    "            newLATlist.append(newl)\n",
    "        else:\n",
    "            newLATlist.append(float(l))\n",
    "    for l in LONGlist:\n",
    "        if \"E\" in l:\n",
    "            newl = float(l.replace(' E', ''))\n",
    "            newLONGlist.append(newl)\n",
    "        elif \"W\" in l:\n",
    "            newl = -(float(l.replace(' W', '')))\n",
    "            newLONGlist.append(newl)\n",
    "        else:\n",
    "            newLONGlist.append(float(l))\n",
    "    df[\"LAT\"] = newLATlist\n",
    "    df[\"LONG\"] = newLONGlist\n",
    "# Otherwise keep them the same\n",
    "except TypeError:\n",
    "    df[\"LAT\"] = LATlist\n",
    "    df[\"LONG\"] = LONGlist"
   ]
  },
  {
   "cell_type": "code",
   "execution_count": null,
   "metadata": {},
   "outputs": [],
   "source": [
    "# Create rivers selected by state layer\n",
    "arcpy.env.workspace = r\"C:\\XXXXX\"\n",
    "USrivers = \"USA_Rivers_and_Streams.shp\"\n",
    "where_clause = \"State = 'LA'\"\n",
    "selectedrivers = arcpy.SelectLayerByAttribute_management(USrivers, \"NEW_SELECTION\", where_clause)\n",
    "arcpy.CopyFeatures_management(selectedrivers, \"LArivers\")\n",
    "# Create gauge points layer\n",
    "df.to_csv(r\"C:\\XXXXX\", index = False)\n",
    "in_table = r\"C:\\XXXXX\"\n",
    "out_fc = \"Water_Height_Gauges\"\n",
    "x_coords = \"LONG\"\n",
    "y_coords = \"LAT\"\n",
    "arcpy.management.XYTableToPoint(in_table, out_fc, x_coords, y_coords)\n",
    "# Create LA rivers selected by intersection with gauge points layer\n",
    "floodrivers = arcpy.SelectLayerByLocation_management(\"LArivers\", \"INTERSECT\", \"Water_Height_Gauges\", \"2 Miles\", \"NEW_SELECTION\", \n",
    "                                                     \"NOT_INVERT\")\n",
    "arcpy.CopyFeatures_management(floodrivers, \"Flood_Rivers\")"
   ]
  },
  {
   "cell_type": "code",
   "execution_count": null,
   "metadata": {},
   "outputs": [],
   "source": [
    "aprx = arcpy.mp.ArcGISProject(r\"C:\\XXXXX\")\n",
    "map = aprx.listMaps(\"Map\")[0]\n",
    "# Add Flood_Rivers layer to map\n",
    "map.addDataFromPath(r\"C:\\XXXXX\")\n",
    "# Add Water_Height_Gauges layer to map\n",
    "map.addDataFromPath(r\"C:\\XXXXX\")"
   ]
  },
  {
   "cell_type": "code",
   "execution_count": null,
   "metadata": {},
   "outputs": [],
   "source": [
    "# Change Flood_Rivers layer symbology color to blue\n",
    "layer = map.listLayers(\"Flood_Rivers\")[0]\n",
    "sym = layer.symbology\n",
    "sym.renderer.symbol.color = {'RGB':  [0, 0, 255, 100]}\n",
    "layer.symbology = sym\n",
    "# Change Water_Height_Gauges layer symbology color to red\n",
    "layer2 = map.listLayers(\"Water_Height_Gauges\")[0]\n",
    "sym2 = layer2.symbology\n",
    "sym2.renderer.symbol.color = {'RGB': [255, 0, 0, 100]}\n",
    "layer2.symbology = sym2\n",
    "\n",
    "# Save project\n",
    "aprx.save()\n",
    "del aprx"
   ]
  },
  {
   "cell_type": "code",
   "execution_count": null,
   "metadata": {},
   "outputs": [],
   "source": []
  }
 ],
 "metadata": {
  "kernelspec": {
   "display_name": "Python 3",
   "language": "python",
   "name": "python3"
  },
  "language_info": {
   "codemirror_mode": {
    "name": "ipython",
    "version": 3
   },
   "file_extension": ".py",
   "mimetype": "text/x-python",
   "name": "python",
   "nbconvert_exporter": "python",
   "pygments_lexer": "ipython3",
   "version": "3.6.9"
  }
 },
 "nbformat": 4,
 "nbformat_minor": 4
}
